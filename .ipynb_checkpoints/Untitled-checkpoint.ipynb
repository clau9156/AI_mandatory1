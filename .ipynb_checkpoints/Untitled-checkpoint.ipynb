{
 "cells": [
  {
   "cell_type": "code",
   "execution_count": 1,
   "id": "b22a40e8",
   "metadata": {},
   "outputs": [],
   "source": [
    "import numpy as np\n",
    "import pandas as pd\n",
    "import matplotlib.pyplot as plt\n",
    "import tensorflow as tf\n",
    "import random\n",
    "from datetime import date"
   ]
  },
  {
   "cell_type": "code",
   "execution_count": 2,
   "id": "e9c4739a",
   "metadata": {},
   "outputs": [],
   "source": [
    "urbanization = pd.read_csv(\"./data/urbanization.csv\", names=[\"Country\", \"Year\", \"Urbanization Percent\"], header=0, dtype = {'Country' : str, 'Year' : int, 'Percent' : int})\n",
    "services_employment = pd.read_csv(\"./data/services_employment.csv\", names=[\"Country\", \"Year\", \"Services Percent\"], header=0)\n",
    "agriculture_employment = pd.read_csv(\"./data/agriculture_employment.csv\", names=[\"Country\", \"Year\", \"Agriculture Percent\"], header=0)"
   ]
  },
  {
   "cell_type": "code",
   "execution_count": 3,
   "id": "00932372",
   "metadata": {},
   "outputs": [
    {
     "data": {
      "text/html": [
       "<div>\n",
       "<style scoped>\n",
       "    .dataframe tbody tr th:only-of-type {\n",
       "        vertical-align: middle;\n",
       "    }\n",
       "\n",
       "    .dataframe tbody tr th {\n",
       "        vertical-align: top;\n",
       "    }\n",
       "\n",
       "    .dataframe thead th {\n",
       "        text-align: right;\n",
       "    }\n",
       "</style>\n",
       "<table border=\"1\" class=\"dataframe\">\n",
       "  <thead>\n",
       "    <tr style=\"text-align: right;\">\n",
       "      <th></th>\n",
       "      <th>Country</th>\n",
       "      <th>Year</th>\n",
       "      <th>Services Percent</th>\n",
       "    </tr>\n",
       "  </thead>\n",
       "  <tbody>\n",
       "    <tr>\n",
       "      <th>0</th>\n",
       "      <td>World</td>\n",
       "      <td>1991</td>\n",
       "      <td>34.448462</td>\n",
       "    </tr>\n",
       "    <tr>\n",
       "      <th>1</th>\n",
       "      <td>World</td>\n",
       "      <td>1992</td>\n",
       "      <td>34.828938</td>\n",
       "    </tr>\n",
       "    <tr>\n",
       "      <th>2</th>\n",
       "      <td>World</td>\n",
       "      <td>1993</td>\n",
       "      <td>35.553595</td>\n",
       "    </tr>\n",
       "    <tr>\n",
       "      <th>3</th>\n",
       "      <td>World</td>\n",
       "      <td>1994</td>\n",
       "      <td>36.349517</td>\n",
       "    </tr>\n",
       "    <tr>\n",
       "      <th>4</th>\n",
       "      <td>World</td>\n",
       "      <td>1995</td>\n",
       "      <td>37.361989</td>\n",
       "    </tr>\n",
       "  </tbody>\n",
       "</table>\n",
       "</div>"
      ],
      "text/plain": [
       "  Country  Year  Services Percent\n",
       "0   World  1991         34.448462\n",
       "1   World  1992         34.828938\n",
       "2   World  1993         35.553595\n",
       "3   World  1994         36.349517\n",
       "4   World  1995         37.361989"
      ]
     },
     "execution_count": 3,
     "metadata": {},
     "output_type": "execute_result"
    }
   ],
   "source": [
    "services_employment.head()"
   ]
  },
  {
   "cell_type": "code",
   "execution_count": 4,
   "id": "7259012e",
   "metadata": {},
   "outputs": [
    {
     "data": {
      "text/html": [
       "<div>\n",
       "<style scoped>\n",
       "    .dataframe tbody tr th:only-of-type {\n",
       "        vertical-align: middle;\n",
       "    }\n",
       "\n",
       "    .dataframe tbody tr th {\n",
       "        vertical-align: top;\n",
       "    }\n",
       "\n",
       "    .dataframe thead th {\n",
       "        text-align: right;\n",
       "    }\n",
       "</style>\n",
       "<table border=\"1\" class=\"dataframe\">\n",
       "  <thead>\n",
       "    <tr style=\"text-align: right;\">\n",
       "      <th></th>\n",
       "      <th>Country</th>\n",
       "      <th>Year</th>\n",
       "      <th>Urbanization Percent</th>\n",
       "    </tr>\n",
       "  </thead>\n",
       "  <tbody>\n",
       "    <tr>\n",
       "      <th>0</th>\n",
       "      <td>World</td>\n",
       "      <td>1991</td>\n",
       "      <td>43.321034</td>\n",
       "    </tr>\n",
       "    <tr>\n",
       "      <th>1</th>\n",
       "      <td>World</td>\n",
       "      <td>1992</td>\n",
       "      <td>43.680270</td>\n",
       "    </tr>\n",
       "    <tr>\n",
       "      <th>2</th>\n",
       "      <td>World</td>\n",
       "      <td>1993</td>\n",
       "      <td>44.044054</td>\n",
       "    </tr>\n",
       "    <tr>\n",
       "      <th>3</th>\n",
       "      <td>World</td>\n",
       "      <td>1994</td>\n",
       "      <td>44.411149</td>\n",
       "    </tr>\n",
       "    <tr>\n",
       "      <th>4</th>\n",
       "      <td>World</td>\n",
       "      <td>1995</td>\n",
       "      <td>44.779913</td>\n",
       "    </tr>\n",
       "  </tbody>\n",
       "</table>\n",
       "</div>"
      ],
      "text/plain": [
       "  Country  Year  Urbanization Percent\n",
       "0   World  1991             43.321034\n",
       "1   World  1992             43.680270\n",
       "2   World  1993             44.044054\n",
       "3   World  1994             44.411149\n",
       "4   World  1995             44.779913"
      ]
     },
     "execution_count": 4,
     "metadata": {},
     "output_type": "execute_result"
    }
   ],
   "source": [
    "urbanization.head()"
   ]
  },
  {
   "cell_type": "code",
   "execution_count": 5,
   "id": "f4c3b021",
   "metadata": {},
   "outputs": [
    {
     "data": {
      "text/html": [
       "<div>\n",
       "<style scoped>\n",
       "    .dataframe tbody tr th:only-of-type {\n",
       "        vertical-align: middle;\n",
       "    }\n",
       "\n",
       "    .dataframe tbody tr th {\n",
       "        vertical-align: top;\n",
       "    }\n",
       "\n",
       "    .dataframe thead th {\n",
       "        text-align: right;\n",
       "    }\n",
       "</style>\n",
       "<table border=\"1\" class=\"dataframe\">\n",
       "  <thead>\n",
       "    <tr style=\"text-align: right;\">\n",
       "      <th></th>\n",
       "      <th>Country</th>\n",
       "      <th>Year</th>\n",
       "      <th>Agriculture Percent</th>\n",
       "    </tr>\n",
       "  </thead>\n",
       "  <tbody>\n",
       "    <tr>\n",
       "      <th>0</th>\n",
       "      <td>World</td>\n",
       "      <td>1991</td>\n",
       "      <td>43.675449</td>\n",
       "    </tr>\n",
       "    <tr>\n",
       "      <th>1</th>\n",
       "      <td>World</td>\n",
       "      <td>1992</td>\n",
       "      <td>43.419469</td>\n",
       "    </tr>\n",
       "    <tr>\n",
       "      <th>2</th>\n",
       "      <td>World</td>\n",
       "      <td>1993</td>\n",
       "      <td>42.701034</td>\n",
       "    </tr>\n",
       "    <tr>\n",
       "      <th>3</th>\n",
       "      <td>World</td>\n",
       "      <td>1994</td>\n",
       "      <td>41.958411</td>\n",
       "    </tr>\n",
       "    <tr>\n",
       "      <th>4</th>\n",
       "      <td>World</td>\n",
       "      <td>1995</td>\n",
       "      <td>41.057787</td>\n",
       "    </tr>\n",
       "  </tbody>\n",
       "</table>\n",
       "</div>"
      ],
      "text/plain": [
       "  Country  Year  Agriculture Percent\n",
       "0   World  1991            43.675449\n",
       "1   World  1992            43.419469\n",
       "2   World  1993            42.701034\n",
       "3   World  1994            41.958411\n",
       "4   World  1995            41.057787"
      ]
     },
     "execution_count": 5,
     "metadata": {},
     "output_type": "execute_result"
    }
   ],
   "source": [
    "agriculture_employment.head()"
   ]
  },
  {
   "cell_type": "code",
   "execution_count": 6,
   "id": "5ec09497",
   "metadata": {},
   "outputs": [],
   "source": [
    "inner_merge = pd.merge(\n",
    "    urbanization, services_employment, on=[\"Country\", \"Year\"]\n",
    ")"
   ]
  },
  {
   "cell_type": "code",
   "execution_count": 7,
   "id": "06a40a15",
   "metadata": {},
   "outputs": [
    {
     "name": "stdout",
     "output_type": "stream",
     "text": [
      "   Country  Year  Urbanization Percent  Services Percent\n",
      "0    World  1991             43.321034         34.448462\n",
      "1    World  1992             43.680270         34.828938\n",
      "2    World  1993             44.044054         35.553595\n",
      "3    World  1994             44.411149         36.349517\n",
      "4    World  1995             44.779913         37.361989\n",
      "5    World  1996             45.149828         38.023407\n",
      "6    World  1997             45.525478         38.515722\n",
      "7    World  1998             45.905564         38.849600\n",
      "8    World  1999             46.288001         39.062798\n",
      "9    World  2000             46.677042         39.410599\n",
      "10   World  2001             47.129749         39.834092\n",
      "11   World  2002             47.631497         40.362032\n",
      "12   World  2003             48.135827         40.788938\n",
      "13   World  2004             48.643623         41.491869\n",
      "14   World  2005             49.156642         41.947663\n",
      "15   World  2006             49.660654         42.580155\n",
      "16   World  2007             50.155079         42.964476\n",
      "17   World  2008             50.660309         43.503882\n",
      "18   World  2009             51.163264         44.134407\n",
      "19   World  2010             51.663995         44.512912\n",
      "20   World  2011             52.128630         45.111758\n",
      "21   World  2012             52.577856         45.552544\n",
      "22   World  2013             53.025984         46.403523\n",
      "23   World  2014             53.474783         47.294064\n",
      "24   World  2015             53.927846         48.053467\n",
      "25   World  2016             54.381574         48.700946\n"
     ]
    }
   ],
   "source": [
    "print(inner_merge)"
   ]
  },
  {
   "cell_type": "code",
   "execution_count": 8,
   "id": "fe55803b",
   "metadata": {},
   "outputs": [],
   "source": [
    "inner_merge = pd.merge(\n",
    "    inner_merge, agriculture_employment, on=[\"Country\", \"Year\"]\n",
    ")"
   ]
  },
  {
   "cell_type": "code",
   "execution_count": 9,
   "id": "af8a1cf9",
   "metadata": {},
   "outputs": [
    {
     "name": "stdout",
     "output_type": "stream",
     "text": [
      "   Country  Year  Urbanization Percent  Services Percent  Agriculture Percent\n",
      "0    World  1991             43.321034         34.448462            43.675449\n",
      "1    World  1992             43.680270         34.828938            43.419469\n",
      "2    World  1993             44.044054         35.553595            42.701034\n",
      "3    World  1994             44.411149         36.349517            41.958411\n",
      "4    World  1995             44.779913         37.361989            41.057787\n",
      "5    World  1996             45.149828         38.023407            40.393654\n",
      "6    World  1997             45.525478         38.515722            40.014753\n",
      "7    World  1998             45.905564         38.849600            39.984680\n",
      "8    World  1999             46.288001         39.062798            40.010277\n",
      "9    World  2000             46.677042         39.410599            39.859190\n",
      "10   World  2001             47.129749         39.834092            39.529124\n",
      "11   World  2002             47.631497         40.362032            39.326314\n",
      "12   World  2003             48.135827         40.788938            38.859251\n",
      "13   World  2004             48.643623         41.491869            37.816011\n",
      "14   World  2005             49.156642         41.947663            36.927640\n",
      "15   World  2006             49.660654         42.580155            35.782287\n",
      "16   World  2007             50.155079         42.964476            34.829003\n",
      "17   World  2008             50.660309         43.503882            34.235691\n",
      "18   World  2009             51.163264         44.134407            33.673738\n",
      "19   World  2010             51.663995         44.512912            32.999778\n",
      "20   World  2011             52.128630         45.111758            32.026124\n",
      "21   World  2012             52.577856         45.552544            31.137015\n",
      "22   World  2013             53.025984         46.403523            30.320476\n",
      "23   World  2014             53.474783         47.294064            29.402555\n",
      "24   World  2015             53.927846         48.053467            28.809446\n",
      "25   World  2016             54.381574         48.700946            28.283069\n"
     ]
    }
   ],
   "source": [
    "print(inner_merge)"
   ]
  },
  {
   "cell_type": "code",
   "execution_count": 10,
   "id": "ed957c04",
   "metadata": {},
   "outputs": [],
   "source": [
    "inner_merge[\"Rural Percent\"] = inner_merge.apply(lambda row: 100-row[\"Urbanization Percent\"], axis=1)"
   ]
  },
  {
   "cell_type": "code",
   "execution_count": 11,
   "id": "1fc71f36",
   "metadata": {},
   "outputs": [
    {
     "name": "stdout",
     "output_type": "stream",
     "text": [
      "   Country  Year  Urbanization Percent  Services Percent  Agriculture Percent  \\\n",
      "0    World  1991             43.321034         34.448462            43.675449   \n",
      "1    World  1992             43.680270         34.828938            43.419469   \n",
      "2    World  1993             44.044054         35.553595            42.701034   \n",
      "3    World  1994             44.411149         36.349517            41.958411   \n",
      "4    World  1995             44.779913         37.361989            41.057787   \n",
      "5    World  1996             45.149828         38.023407            40.393654   \n",
      "6    World  1997             45.525478         38.515722            40.014753   \n",
      "7    World  1998             45.905564         38.849600            39.984680   \n",
      "8    World  1999             46.288001         39.062798            40.010277   \n",
      "9    World  2000             46.677042         39.410599            39.859190   \n",
      "10   World  2001             47.129749         39.834092            39.529124   \n",
      "11   World  2002             47.631497         40.362032            39.326314   \n",
      "12   World  2003             48.135827         40.788938            38.859251   \n",
      "13   World  2004             48.643623         41.491869            37.816011   \n",
      "14   World  2005             49.156642         41.947663            36.927640   \n",
      "15   World  2006             49.660654         42.580155            35.782287   \n",
      "16   World  2007             50.155079         42.964476            34.829003   \n",
      "17   World  2008             50.660309         43.503882            34.235691   \n",
      "18   World  2009             51.163264         44.134407            33.673738   \n",
      "19   World  2010             51.663995         44.512912            32.999778   \n",
      "20   World  2011             52.128630         45.111758            32.026124   \n",
      "21   World  2012             52.577856         45.552544            31.137015   \n",
      "22   World  2013             53.025984         46.403523            30.320476   \n",
      "23   World  2014             53.474783         47.294064            29.402555   \n",
      "24   World  2015             53.927846         48.053467            28.809446   \n",
      "25   World  2016             54.381574         48.700946            28.283069   \n",
      "\n",
      "    Rural Percent  \n",
      "0       56.678966  \n",
      "1       56.319730  \n",
      "2       55.955946  \n",
      "3       55.588851  \n",
      "4       55.220087  \n",
      "5       54.850172  \n",
      "6       54.474522  \n",
      "7       54.094436  \n",
      "8       53.711999  \n",
      "9       53.322958  \n",
      "10      52.870251  \n",
      "11      52.368503  \n",
      "12      51.864173  \n",
      "13      51.356377  \n",
      "14      50.843358  \n",
      "15      50.339346  \n",
      "16      49.844921  \n",
      "17      49.339691  \n",
      "18      48.836736  \n",
      "19      48.336005  \n",
      "20      47.871370  \n",
      "21      47.422144  \n",
      "22      46.974016  \n",
      "23      46.525217  \n",
      "24      46.072154  \n",
      "25      45.618426  \n"
     ]
    }
   ],
   "source": [
    "print(inner_merge)"
   ]
  },
  {
   "cell_type": "code",
   "execution_count": 12,
   "id": "b47660de",
   "metadata": {},
   "outputs": [
    {
     "data": {
      "image/png": "[encoded data removed]",
      "text/plain": [
       "<Figure size 640x480 with 1 Axes>"
      ]
     },
     "metadata": {},
     "output_type": "display_data"
    }
   ],
   "source": [
    "# Plot data Urbanization vs Agriculture \n",
    "plt.title('Urbanization vs Agriculture')\n",
    "plt.xlabel('Year')\n",
    "plt.ylabel('Percentage of population %')\n",
    "plt.legend(['urbanization', 'agriculture_employment'])\n",
    "plt.plot(inner_merge['Year'], inner_merge['Urbanization Percent'])\n",
    "plt.plot(inner_merge['Year'], inner_merge['Agriculture Percent'])\n",
    "plt.legend(['Urbanization', 'Agriculture'])\n",
    "plt.show()"
   ]
  },
  {
   "cell_type": "code",
   "execution_count": 13,
   "id": "bfc9ac5c",
   "metadata": {},
   "outputs": [
    {
     "data": {
      "image/png": "[encoded data removed]",
      "text/plain": [
       "<Figure size 640x480 with 1 Axes>"
      ]
     },
     "metadata": {},
     "output_type": "display_data"
    }
   ],
   "source": [
    "# Plot data Rural vs Services \n",
    "plt.title('Rural vs Services')\n",
    "plt.xlabel('Year')\n",
    "plt.ylabel('Percentage of population %')\n",
    "plt.plot(inner_merge['Year'], inner_merge['Rural Percent'], linestyle='dotted')\n",
    "plt.plot(inner_merge['Year'], inner_merge['Services Percent'] , linestyle='dashdot')\n",
    "plt.legend(['Rural', 'Services'])\n",
    "plt.show()"
   ]
  },
  {
   "cell_type": "code",
   "execution_count": 14,
   "id": "0bb6af49",
   "metadata": {},
   "outputs": [
    {
     "data": {
      "image/png": "[encoded data removed]",
      "text/plain": [
       "<Figure size 640x480 with 1 Axes>"
      ]
     },
     "metadata": {},
     "output_type": "display_data"
    }
   ],
   "source": [
    "# Plot everything\n",
    "plt.title('Everything')\n",
    "plt.xlabel('Year')\n",
    "plt.ylabel('Percentage of population %')\n",
    "plt.plot(inner_merge['Year'], inner_merge['Rural Percent'])\n",
    "plt.plot(inner_merge['Year'], inner_merge['Services Percent'])\n",
    "plt.plot(inner_merge['Year'], inner_merge['Urbanization Percent'])\n",
    "plt.plot(inner_merge['Year'], inner_merge['Agriculture Percent'])\n",
    "plt.legend(['Rural', 'Services', 'Urbanization', 'Agriculture'])\n",
    "plt.show()"
   ]
  },
  {
   "cell_type": "code",
   "execution_count": 15,
   "id": "b0a505d8",
   "metadata": {},
   "outputs": [],
   "source": [
    "# Urbanization Rolling average\n",
    "urban_rolling_average = inner_merge['Urbanization Percent'].rolling(2).mean()"
   ]
  },
  {
   "cell_type": "code",
   "execution_count": 16,
   "id": "62a6babe",
   "metadata": {
    "scrolled": true
   },
   "outputs": [
    {
     "name": "stdout",
     "output_type": "stream",
     "text": [
      "0           NaN\n",
      "1     43.500652\n",
      "2     43.862162\n",
      "3     44.227601\n",
      "4     44.595531\n",
      "5     44.964871\n",
      "6     45.337653\n",
      "7     45.715521\n",
      "8     46.096783\n",
      "9     46.482522\n",
      "10    46.903396\n",
      "11    47.380623\n",
      "12    47.883662\n",
      "13    48.389725\n",
      "14    48.900133\n",
      "15    49.408648\n",
      "16    49.907867\n",
      "17    50.407694\n",
      "18    50.911787\n",
      "19    51.413629\n",
      "20    51.896312\n",
      "21    52.353243\n",
      "22    52.801920\n",
      "23    53.250383\n",
      "24    53.701315\n",
      "25    54.154710\n",
      "Name: Urbanization Percent, dtype: float64\n"
     ]
    }
   ],
   "source": [
    "print(urban_rolling_average)"
   ]
  },
  {
   "cell_type": "code",
   "execution_count": 17,
   "id": "6bea8289",
   "metadata": {},
   "outputs": [],
   "source": [
    "# Rural Rolling average\n",
    "rural_rolling_average = inner_merge['Rural Percent'].rolling(2).mean()"
   ]
  },
  {
   "cell_type": "code",
   "execution_count": 18,
   "id": "9a8008ee",
   "metadata": {},
   "outputs": [
    {
     "name": "stdout",
     "output_type": "stream",
     "text": [
      "0           NaN\n",
      "1     56.499348\n",
      "2     56.137838\n",
      "3     55.772399\n",
      "4     55.404469\n",
      "5     55.035129\n",
      "6     54.662347\n",
      "7     54.284479\n",
      "8     53.903217\n",
      "9     53.517478\n",
      "10    53.096604\n",
      "11    52.619377\n",
      "12    52.116338\n",
      "13    51.610275\n",
      "14    51.099867\n",
      "15    50.591352\n",
      "16    50.092133\n",
      "17    49.592306\n",
      "18    49.088213\n",
      "19    48.586371\n",
      "20    48.103688\n",
      "21    47.646757\n",
      "22    47.198080\n",
      "23    46.749617\n",
      "24    46.298685\n",
      "25    45.845290\n",
      "Name: Rural Percent, dtype: float64\n"
     ]
    }
   ],
   "source": [
    "print(rural_rolling_average)"
   ]
  },
  {
   "cell_type": "code",
   "execution_count": 19,
   "id": "4e06d3e8",
   "metadata": {},
   "outputs": [],
   "source": [
    "# Agricultural Rolling average\n",
    "agriculture_rolling_average = inner_merge['Agriculture Percent'].rolling(2).mean()"
   ]
  },
  {
   "cell_type": "code",
   "execution_count": 20,
   "id": "15603ecb",
   "metadata": {},
   "outputs": [
    {
     "name": "stdout",
     "output_type": "stream",
     "text": [
      "0           NaN\n",
      "1     43.547459\n",
      "2     43.060251\n",
      "3     42.329723\n",
      "4     41.508099\n",
      "5     40.725721\n",
      "6     40.204204\n",
      "7     39.999716\n",
      "8     39.997478\n",
      "9     39.934733\n",
      "10    39.694157\n",
      "11    39.427719\n",
      "12    39.092783\n",
      "13    38.337631\n",
      "14    37.371826\n",
      "15    36.354964\n",
      "16    35.305645\n",
      "17    34.532347\n",
      "18    33.954714\n",
      "19    33.336758\n",
      "20    32.512951\n",
      "21    31.581570\n",
      "22    30.728746\n",
      "23    29.861516\n",
      "24    29.106001\n",
      "25    28.546258\n",
      "Name: Agriculture Percent, dtype: float64\n"
     ]
    }
   ],
   "source": [
    "print(agriculture_rolling_average)"
   ]
  },
  {
   "cell_type": "code",
   "execution_count": 21,
   "id": "6966a670",
   "metadata": {},
   "outputs": [],
   "source": [
    "# Services Rolling average\n",
    "services_rolling_average = inner_merge['Services Percent'].rolling(2).mean()"
   ]
  },
  {
   "cell_type": "code",
   "execution_count": 22,
   "id": "cdb0589f",
   "metadata": {},
   "outputs": [
    {
     "name": "stdout",
     "output_type": "stream",
     "text": [
      "0           NaN\n",
      "1     34.638700\n",
      "2     35.191267\n",
      "3     35.951556\n",
      "4     36.855753\n",
      "5     37.692698\n",
      "6     38.269565\n",
      "7     38.682661\n",
      "8     38.956199\n",
      "9     39.236699\n",
      "10    39.622346\n",
      "11    40.098062\n",
      "12    40.575485\n",
      "13    41.140404\n",
      "14    41.719766\n",
      "15    42.263909\n",
      "16    42.772315\n",
      "17    43.234179\n",
      "18    43.819144\n",
      "19    44.323659\n",
      "20    44.812335\n",
      "21    45.332151\n",
      "22    45.978034\n",
      "23    46.848794\n",
      "24    47.673765\n",
      "25    48.377206\n",
      "Name: Services Percent, dtype: float64\n"
     ]
    }
   ],
   "source": [
    "print(services_rolling_average )"
   ]
  },
  {
   "cell_type": "code",
   "execution_count": 23,
   "id": "a5d99cee",
   "metadata": {},
   "outputs": [],
   "source": [
    "# Urbanization Standard Deviation\n",
    "urban_standard_deviation = inner_merge['Urbanization Percent'].rolling(2).std()"
   ]
  },
  {
   "cell_type": "code",
   "execution_count": null,
   "id": "1043c2ec",
   "metadata": {},
   "outputs": [],
   "source": []
  },
  {
   "cell_type": "code",
   "execution_count": 24,
   "id": "c9a4c0ad",
   "metadata": {},
   "outputs": [
    {
     "name": "stdout",
     "output_type": "stream",
     "text": [
      "0          NaN\n",
      "1     0.254018\n",
      "2     0.257234\n",
      "3     0.259575\n",
      "4     0.260756\n",
      "5     0.261570\n",
      "6     0.265624\n",
      "7     0.268762\n",
      "8     0.270424\n",
      "9     0.275094\n",
      "10    0.320112\n",
      "11    0.354790\n",
      "12    0.356615\n",
      "13    0.359066\n",
      "14    0.362759\n",
      "15    0.356391\n",
      "16    0.349611\n",
      "17    0.357252\n",
      "18    0.355642\n",
      "19    0.354070\n",
      "20    0.328547\n",
      "21    0.317651\n",
      "22    0.316874\n",
      "23    0.317349\n",
      "24    0.320364\n",
      "25    0.320834\n",
      "Name: Urbanization Percent, dtype: float64\n"
     ]
    }
   ],
   "source": [
    "print(urban_standard_deviation)"
   ]
  },
  {
   "cell_type": "code",
   "execution_count": 25,
   "id": "d31d6975",
   "metadata": {},
   "outputs": [],
   "source": [
    "# Rural Standard Deviation\n",
    "rural_standard_deviation = inner_merge['Rural Percent'].rolling(2).std()"
   ]
  },
  {
   "cell_type": "code",
   "execution_count": 26,
   "id": "0383e700",
   "metadata": {},
   "outputs": [
    {
     "name": "stdout",
     "output_type": "stream",
     "text": [
      "0          NaN\n",
      "1     0.254018\n",
      "2     0.257234\n",
      "3     0.259575\n",
      "4     0.260756\n",
      "5     0.261570\n",
      "6     0.265624\n",
      "7     0.268762\n",
      "8     0.270424\n",
      "9     0.275094\n",
      "10    0.320112\n",
      "11    0.354790\n",
      "12    0.356615\n",
      "13    0.359066\n",
      "14    0.362759\n",
      "15    0.356391\n",
      "16    0.349611\n",
      "17    0.357252\n",
      "18    0.355642\n",
      "19    0.354070\n",
      "20    0.328547\n",
      "21    0.317651\n",
      "22    0.316874\n",
      "23    0.317349\n",
      "24    0.320364\n",
      "25    0.320834\n",
      "Name: Rural Percent, dtype: float64\n"
     ]
    }
   ],
   "source": [
    "print(rural_standard_deviation)"
   ]
  },
  {
   "cell_type": "code",
   "execution_count": 27,
   "id": "0e7ea6d6",
   "metadata": {},
   "outputs": [],
   "source": [
    "# Agricultural Standard Deviation\n",
    "agriculture_standard_deviation = inner_merge['Agriculture Percent'].rolling(2).std()"
   ]
  },
  {
   "cell_type": "code",
   "execution_count": 28,
   "id": "2851a604",
   "metadata": {},
   "outputs": [
    {
     "name": "stdout",
     "output_type": "stream",
     "text": [
      "0          NaN\n",
      "1     0.181005\n",
      "2     0.508010\n",
      "3     0.525114\n",
      "4     0.636838\n",
      "5     0.469612\n",
      "6     0.267924\n",
      "7     0.021265\n",
      "8     0.018100\n",
      "9     0.106834\n",
      "10    0.233392\n",
      "11    0.143408\n",
      "12    0.330263\n",
      "13    0.737682\n",
      "14    0.628173\n",
      "15    0.809887\n",
      "16    0.674074\n",
      "17    0.419535\n",
      "18    0.397361\n",
      "19    0.476561\n",
      "20    0.688477\n",
      "21    0.628695\n",
      "22    0.577380\n",
      "23    0.649068\n",
      "24    0.419391\n",
      "25    0.372205\n",
      "Name: Agriculture Percent, dtype: float64\n"
     ]
    }
   ],
   "source": [
    "print(agriculture_standard_deviation)"
   ]
  },
  {
   "cell_type": "code",
   "execution_count": 29,
   "id": "f53e0ee4",
   "metadata": {},
   "outputs": [],
   "source": [
    "# Services Standard Deviation\n",
    "services_standard_deviation = inner_merge['Services Percent'].rolling(2).std()"
   ]
  },
  {
   "cell_type": "code",
   "execution_count": 30,
   "id": "22cf283f",
   "metadata": {},
   "outputs": [
    {
     "name": "stdout",
     "output_type": "stream",
     "text": [
      "0          NaN\n",
      "1     0.269037\n",
      "2     0.512410\n",
      "3     0.562802\n",
      "4     0.715925\n",
      "5     0.467693\n",
      "6     0.348119\n",
      "7     0.236087\n",
      "8     0.150754\n",
      "9     0.245932\n",
      "10    0.299455\n",
      "11    0.373310\n",
      "12    0.301868\n",
      "13    0.497047\n",
      "14    0.322295\n",
      "15    0.447239\n",
      "16    0.271756\n",
      "17    0.381418\n",
      "18    0.445849\n",
      "19    0.267644\n",
      "20    0.423448\n",
      "21    0.311683\n",
      "22    0.601733\n",
      "23    0.629707\n",
      "24    0.536979\n",
      "25    0.457837\n",
      "Name: Services Percent, dtype: float64\n"
     ]
    }
   ],
   "source": [
    "print(services_standard_deviation)"
   ]
  },
  {
   "cell_type": "code",
   "execution_count": 31,
   "id": "4ee44ef1",
   "metadata": {},
   "outputs": [],
   "source": [
    "# Urbanization Rolling Difference\n",
    "urban_rolling_difference = pd.Series(inner_merge['Urbanization Percent']).diff(periods=1)"
   ]
  },
  {
   "cell_type": "code",
   "execution_count": 32,
   "id": "7a840931",
   "metadata": {},
   "outputs": [
    {
     "name": "stdout",
     "output_type": "stream",
     "text": [
      "0          NaN\n",
      "1     0.359236\n",
      "2     0.363784\n",
      "3     0.367094\n",
      "4     0.368764\n",
      "5     0.369915\n",
      "6     0.375650\n",
      "7     0.380087\n",
      "8     0.382437\n",
      "9     0.389041\n",
      "10    0.452706\n",
      "11    0.501748\n",
      "12    0.504330\n",
      "13    0.507796\n",
      "14    0.513019\n",
      "15    0.504013\n",
      "16    0.494425\n",
      "17    0.505230\n",
      "18    0.502954\n",
      "19    0.500731\n",
      "20    0.464635\n",
      "21    0.449226\n",
      "22    0.448128\n",
      "23    0.448800\n",
      "24    0.453063\n",
      "25    0.453727\n",
      "Name: Urbanization Percent, dtype: float64\n"
     ]
    }
   ],
   "source": [
    "print(urban_rolling_difference)"
   ]
  },
  {
   "cell_type": "code",
   "execution_count": 33,
   "id": "9d4aadfd",
   "metadata": {},
   "outputs": [],
   "source": [
    "# Rural Rolling Difference\n",
    "rural_rolling_difference = pd.Series(inner_merge['Rural Percent']).diff(periods=1)"
   ]
  },
  {
   "cell_type": "code",
   "execution_count": 34,
   "id": "b4cb88a4",
   "metadata": {},
   "outputs": [
    {
     "name": "stdout",
     "output_type": "stream",
     "text": [
      "0          NaN\n",
      "1    -0.359236\n",
      "2    -0.363784\n",
      "3    -0.367094\n",
      "4    -0.368764\n",
      "5    -0.369915\n",
      "6    -0.375650\n",
      "7    -0.380087\n",
      "8    -0.382437\n",
      "9    -0.389041\n",
      "10   -0.452706\n",
      "11   -0.501748\n",
      "12   -0.504330\n",
      "13   -0.507796\n",
      "14   -0.513019\n",
      "15   -0.504013\n",
      "16   -0.494425\n",
      "17   -0.505230\n",
      "18   -0.502954\n",
      "19   -0.500731\n",
      "20   -0.464635\n",
      "21   -0.449226\n",
      "22   -0.448128\n",
      "23   -0.448800\n",
      "24   -0.453063\n",
      "25   -0.453727\n",
      "Name: Rural Percent, dtype: float64\n"
     ]
    }
   ],
   "source": [
    "print(rural_rolling_difference)"
   ]
  },
  {
   "cell_type": "code",
   "execution_count": 35,
   "id": "d70ad5f8",
   "metadata": {},
   "outputs": [],
   "source": [
    "# Agriculturee Rolling Difference\n",
    "agriculture_rolling_difference = pd.Series(inner_merge['Agriculture Percent']).diff(periods=1)"
   ]
  },
  {
   "cell_type": "code",
   "execution_count": 36,
   "id": "ba4b998b",
   "metadata": {},
   "outputs": [
    {
     "name": "stdout",
     "output_type": "stream",
     "text": [
      "0          NaN\n",
      "1    -0.255980\n",
      "2    -0.718435\n",
      "3    -0.742623\n",
      "4    -0.900624\n",
      "5    -0.664132\n",
      "6    -0.378901\n",
      "7    -0.030073\n",
      "8     0.025597\n",
      "9    -0.151086\n",
      "10   -0.330066\n",
      "11   -0.202810\n",
      "12   -0.467063\n",
      "13   -1.043240\n",
      "14   -0.888371\n",
      "15   -1.145353\n",
      "16   -0.953285\n",
      "17   -0.593312\n",
      "18   -0.561953\n",
      "19   -0.673959\n",
      "20   -0.973654\n",
      "21   -0.889109\n",
      "22   -0.816539\n",
      "23   -0.917921\n",
      "24   -0.593109\n",
      "25   -0.526377\n",
      "Name: Agriculture Percent, dtype: float64\n"
     ]
    }
   ],
   "source": [
    "print(agriculture_rolling_difference)"
   ]
  },
  {
   "cell_type": "code",
   "execution_count": 37,
   "id": "9ce5bac9",
   "metadata": {},
   "outputs": [],
   "source": [
    "# Services Rolling Difference\n",
    "services_rolling_difference = pd.Series(inner_merge['Services Percent']).diff(periods=1)"
   ]
  },
  {
   "cell_type": "code",
   "execution_count": 38,
   "id": "49e1cb79",
   "metadata": {},
   "outputs": [
    {
     "name": "stdout",
     "output_type": "stream",
     "text": [
      "0          NaN\n",
      "1     0.380476\n",
      "2     0.724657\n",
      "3     0.795923\n",
      "4     1.012471\n",
      "5     0.661418\n",
      "6     0.492315\n",
      "7     0.333877\n",
      "8     0.213198\n",
      "9     0.347801\n",
      "10    0.423493\n",
      "11    0.527940\n",
      "12    0.426906\n",
      "13    0.702931\n",
      "14    0.455793\n",
      "15    0.632492\n",
      "16    0.384321\n",
      "17    0.539406\n",
      "18    0.630525\n",
      "19    0.378505\n",
      "20    0.598846\n",
      "21    0.440786\n",
      "22    0.850979\n",
      "23    0.890541\n",
      "24    0.759403\n",
      "25    0.647479\n",
      "Name: Services Percent, dtype: float64\n"
     ]
    }
   ],
   "source": [
    "print(services_rolling_difference)"
   ]
  },
  {
   "cell_type": "code",
   "execution_count": 39,
   "id": "6709ecd5",
   "metadata": {},
   "outputs": [],
   "source": [
    "df_urban_services = pd.DataFrame([inner_merge[\"Urbanization Percent\"], inner_merge[\"Services Percent\"]]).transpose()"
   ]
  },
  {
   "cell_type": "code",
   "execution_count": 40,
   "id": "e3e417e6",
   "metadata": {},
   "outputs": [
    {
     "name": "stdout",
     "output_type": "stream",
     "text": [
      "    Urbanization Percent  Services Percent\n",
      "0              43.321034         34.448462\n",
      "1              43.680270         34.828938\n",
      "2              44.044054         35.553595\n",
      "3              44.411149         36.349517\n",
      "4              44.779913         37.361989\n",
      "5              45.149828         38.023407\n",
      "6              45.525478         38.515722\n",
      "7              45.905564         38.849600\n",
      "8              46.288001         39.062798\n",
      "9              46.677042         39.410599\n",
      "10             47.129749         39.834092\n",
      "11             47.631497         40.362032\n",
      "12             48.135827         40.788938\n",
      "13             48.643623         41.491869\n",
      "14             49.156642         41.947663\n",
      "15             49.660654         42.580155\n",
      "16             50.155079         42.964476\n",
      "17             50.660309         43.503882\n",
      "18             51.163264         44.134407\n",
      "19             51.663995         44.512912\n",
      "20             52.128630         45.111758\n",
      "21             52.577856         45.552544\n",
      "22             53.025984         46.403523\n",
      "23             53.474783         47.294064\n",
      "24             53.927846         48.053467\n",
      "25             54.381574         48.700946\n"
     ]
    }
   ],
   "source": [
    "print(df_urban_services)"
   ]
  },
  {
   "cell_type": "code",
   "execution_count": 41,
   "id": "66f066cd",
   "metadata": {},
   "outputs": [],
   "source": [
    "df_rural_agriculture = pd.DataFrame([inner_merge[\"Rural Percent\"], inner_merge[\"Agriculture Percent\"]]).transpose()"
   ]
  },
  {
   "cell_type": "code",
   "execution_count": 42,
   "id": "4c7eb590",
   "metadata": {},
   "outputs": [
    {
     "name": "stdout",
     "output_type": "stream",
     "text": [
      "    Rural Percent  Agriculture Percent\n",
      "0       56.678966            43.675449\n",
      "1       56.319730            43.419469\n",
      "2       55.955946            42.701034\n",
      "3       55.588851            41.958411\n",
      "4       55.220087            41.057787\n",
      "5       54.850172            40.393654\n",
      "6       54.474522            40.014753\n",
      "7       54.094436            39.984680\n",
      "8       53.711999            40.010277\n",
      "9       53.322958            39.859190\n",
      "10      52.870251            39.529124\n",
      "11      52.368503            39.326314\n",
      "12      51.864173            38.859251\n",
      "13      51.356377            37.816011\n",
      "14      50.843358            36.927640\n",
      "15      50.339346            35.782287\n",
      "16      49.844921            34.829003\n",
      "17      49.339691            34.235691\n",
      "18      48.836736            33.673738\n",
      "19      48.336005            32.999778\n",
      "20      47.871370            32.026124\n",
      "21      47.422144            31.137015\n",
      "22      46.974016            30.320476\n",
      "23      46.525217            29.402555\n",
      "24      46.072154            28.809446\n",
      "25      45.618426            28.283069\n"
     ]
    }
   ],
   "source": [
    "print(df_rural_agriculture)"
   ]
  },
  {
   "cell_type": "code",
   "execution_count": 43,
   "id": "e0c52fad",
   "metadata": {},
   "outputs": [
    {
     "data": {
      "text/html": [
       "<div>\n",
       "<style scoped>\n",
       "    .dataframe tbody tr th:only-of-type {\n",
       "        vertical-align: middle;\n",
       "    }\n",
       "\n",
       "    .dataframe tbody tr th {\n",
       "        vertical-align: top;\n",
       "    }\n",
       "\n",
       "    .dataframe thead th {\n",
       "        text-align: right;\n",
       "    }\n",
       "</style>\n",
       "<table border=\"1\" class=\"dataframe\">\n",
       "  <thead>\n",
       "    <tr style=\"text-align: right;\">\n",
       "      <th></th>\n",
       "      <th>Urbanization Percent</th>\n",
       "      <th>Services Percent</th>\n",
       "    </tr>\n",
       "  </thead>\n",
       "  <tbody>\n",
       "    <tr>\n",
       "      <th>Urbanization Percent</th>\n",
       "      <td>1.000000</td>\n",
       "      <td>0.994399</td>\n",
       "    </tr>\n",
       "    <tr>\n",
       "      <th>Services Percent</th>\n",
       "      <td>0.994399</td>\n",
       "      <td>1.000000</td>\n",
       "    </tr>\n",
       "  </tbody>\n",
       "</table>\n",
       "</div>"
      ],
      "text/plain": [
       "                      Urbanization Percent  Services Percent\n",
       "Urbanization Percent              1.000000          0.994399\n",
       "Services Percent                  0.994399          1.000000"
      ]
     },
     "execution_count": 43,
     "metadata": {},
     "output_type": "execute_result"
    }
   ],
   "source": [
    "df_urban_services.corr(method='pearson', min_periods=1)"
   ]
  },
  {
   "cell_type": "code",
   "execution_count": 44,
   "id": "96b5bea1",
   "metadata": {},
   "outputs": [
    {
     "data": {
      "text/html": [
       "<div>\n",
       "<style scoped>\n",
       "    .dataframe tbody tr th:only-of-type {\n",
       "        vertical-align: middle;\n",
       "    }\n",
       "\n",
       "    .dataframe tbody tr th {\n",
       "        vertical-align: top;\n",
       "    }\n",
       "\n",
       "    .dataframe thead th {\n",
       "        text-align: right;\n",
       "    }\n",
       "</style>\n",
       "<table border=\"1\" class=\"dataframe\">\n",
       "  <thead>\n",
       "    <tr style=\"text-align: right;\">\n",
       "      <th></th>\n",
       "      <th>Rural Percent</th>\n",
       "      <th>Agriculture Percent</th>\n",
       "    </tr>\n",
       "  </thead>\n",
       "  <tbody>\n",
       "    <tr>\n",
       "      <th>Rural Percent</th>\n",
       "      <td>1.000000</td>\n",
       "      <td>0.989133</td>\n",
       "    </tr>\n",
       "    <tr>\n",
       "      <th>Agriculture Percent</th>\n",
       "      <td>0.989133</td>\n",
       "      <td>1.000000</td>\n",
       "    </tr>\n",
       "  </tbody>\n",
       "</table>\n",
       "</div>"
      ],
      "text/plain": [
       "                     Rural Percent  Agriculture Percent\n",
       "Rural Percent             1.000000             0.989133\n",
       "Agriculture Percent       0.989133             1.000000"
      ]
     },
     "execution_count": 44,
     "metadata": {},
     "output_type": "execute_result"
    }
   ],
   "source": [
    "df_rural_agriculture.corr(method='pearson', min_periods=1)"
   ]
  },
  {
   "cell_type": "code",
   "execution_count": 45,
   "id": "429f3e3a",
   "metadata": {},
   "outputs": [],
   "source": [
    "# Dataset\n",
    "\n",
    "# random.shuffle(inner_merge)\n",
    "ds_test, ds_validate, ds_train = inner_merge[0:2], inner_merge[3:8], inner_merge[9:25]"
   ]
  },
  {
   "cell_type": "code",
   "execution_count": 46,
   "id": "98da8272",
   "metadata": {},
   "outputs": [
    {
     "name": "stdout",
     "output_type": "stream",
     "text": [
      "  Country  Year  Urbanization Percent  Services Percent  Agriculture Percent  \\\n",
      "0   World  1991             43.321034         34.448462            43.675449   \n",
      "1   World  1992             43.680270         34.828938            43.419469   \n",
      "\n",
      "   Rural Percent  \n",
      "0      56.678966  \n",
      "1      56.319730  \n"
     ]
    }
   ],
   "source": [
    "print(ds_test)"
   ]
  },
  {
   "cell_type": "code",
   "execution_count": 47,
   "id": "4039544f",
   "metadata": {},
   "outputs": [
    {
     "name": "stdout",
     "output_type": "stream",
     "text": [
      "  Country  Year  Urbanization Percent  Services Percent  Agriculture Percent  \\\n",
      "3   World  1994             44.411149         36.349517            41.958411   \n",
      "4   World  1995             44.779913         37.361989            41.057787   \n",
      "5   World  1996             45.149828         38.023407            40.393654   \n",
      "6   World  1997             45.525478         38.515722            40.014753   \n",
      "7   World  1998             45.905564         38.849600            39.984680   \n",
      "\n",
      "   Rural Percent  \n",
      "3      55.588851  \n",
      "4      55.220087  \n",
      "5      54.850172  \n",
      "6      54.474522  \n",
      "7      54.094436  \n"
     ]
    }
   ],
   "source": [
    "print(ds_validate)"
   ]
  },
  {
   "cell_type": "code",
   "execution_count": 48,
   "id": "7d4df68f",
   "metadata": {},
   "outputs": [
    {
     "name": "stdout",
     "output_type": "stream",
     "text": [
      "   Country  Year  Urbanization Percent  Services Percent  Agriculture Percent  \\\n",
      "9    World  2000             46.677042         39.410599            39.859190   \n",
      "10   World  2001             47.129749         39.834092            39.529124   \n",
      "11   World  2002             47.631497         40.362032            39.326314   \n",
      "12   World  2003             48.135827         40.788938            38.859251   \n",
      "13   World  2004             48.643623         41.491869            37.816011   \n",
      "14   World  2005             49.156642         41.947663            36.927640   \n",
      "15   World  2006             49.660654         42.580155            35.782287   \n",
      "16   World  2007             50.155079         42.964476            34.829003   \n",
      "17   World  2008             50.660309         43.503882            34.235691   \n",
      "18   World  2009             51.163264         44.134407            33.673738   \n",
      "19   World  2010             51.663995         44.512912            32.999778   \n",
      "20   World  2011             52.128630         45.111758            32.026124   \n",
      "21   World  2012             52.577856         45.552544            31.137015   \n",
      "22   World  2013             53.025984         46.403523            30.320476   \n",
      "23   World  2014             53.474783         47.294064            29.402555   \n",
      "24   World  2015             53.927846         48.053467            28.809446   \n",
      "\n",
      "    Rural Percent  \n",
      "9       53.322958  \n",
      "10      52.870251  \n",
      "11      52.368503  \n",
      "12      51.864173  \n",
      "13      51.356377  \n",
      "14      50.843358  \n",
      "15      50.339346  \n",
      "16      49.844921  \n",
      "17      49.339691  \n",
      "18      48.836736  \n",
      "19      48.336005  \n",
      "20      47.871370  \n",
      "21      47.422144  \n",
      "22      46.974016  \n",
      "23      46.525217  \n",
      "24      46.072154  \n"
     ]
    }
   ],
   "source": [
    "print(ds_train)"
   ]
  },
  {
   "cell_type": "code",
   "execution_count": 49,
   "id": "c304b451",
   "metadata": {},
   "outputs": [
    {
     "name": "stdout",
     "output_type": "stream",
     "text": [
      "Model: \"sequential\"\n",
      "_________________________________________________________________\n",
      " Layer (type)                Output Shape              Param #   \n",
      "=================================================================\n",
      " flatten (Flatten)           (None, 2)                 0         \n",
      "                                                                 \n",
      " dense (Dense)               (None, 12)                36        \n",
      "                                                                 \n",
      " dense_1 (Dense)             (None, 1)                 13        \n",
      "                                                                 \n",
      "=================================================================\n",
      "Total params: 49\n",
      "Trainable params: 49\n",
      "Non-trainable params: 0\n",
      "_________________________________________________________________\n"
     ]
    }
   ],
   "source": [
    "model = tf.keras.models.Sequential([\n",
    "    tf.keras.layers.Flatten(input_shape=(2,)),\n",
    "    tf.keras.layers.Dense(12, activation='relu'),\n",
    "    tf.keras.layers.Dense(1)\n",
    "])\n",
    "\n",
    "model.summary()"
   ]
  },
  {
   "cell_type": "code",
   "execution_count": 50,
   "id": "12f5a0f8",
   "metadata": {},
   "outputs": [],
   "source": [
    "model.compile(\n",
    "    optimizer=tf.keras.optimizers.Adam(0.001),\n",
    "    loss=tf.keras.losses.SparseCategoricalCrossentropy(from_logits=True),\n",
    "    metrics=[tf.keras.metrics.MeanSquaredError()],\n",
    ")"
   ]
  },
  {
   "cell_type": "code",
   "execution_count": 51,
   "id": "78618638",
   "metadata": {},
   "outputs": [
    {
     "ename": "ValueError",
     "evalue": "The truth value of a DataFrame is ambiguous. Use a.empty, a.bool(), a.item(), a.any() or a.all().",
     "output_type": "error",
     "traceback": [
      "\u001b[0;31m---------------------------------------------------------------------------\u001b[0m",
      "\u001b[0;31mValueError\u001b[0m                                Traceback (most recent call last)",
      "Input \u001b[0;32mIn [51]\u001b[0m, in \u001b[0;36m<cell line: 2>\u001b[0;34m()\u001b[0m\n\u001b[1;32m      1\u001b[0m history \u001b[38;5;241m=\u001b[39m []\n\u001b[0;32m----> 2\u001b[0m history\u001b[38;5;241m.\u001b[39mappend((\u001b[38;5;124m'\u001b[39m\u001b[38;5;124mBasic DNN\u001b[39m\u001b[38;5;124m'\u001b[39m, \u001b[43mmodel\u001b[49m\u001b[38;5;241;43m.\u001b[39;49m\u001b[43mfit\u001b[49m\u001b[43m(\u001b[49m\n\u001b[1;32m      3\u001b[0m \u001b[43m    \u001b[49m\u001b[43mds_train\u001b[49m\u001b[43m,\u001b[49m\n\u001b[1;32m      4\u001b[0m \u001b[43m    \u001b[49m\u001b[43mepochs\u001b[49m\u001b[38;5;241;43m=\u001b[39;49m\u001b[38;5;241;43m10\u001b[39;49m\u001b[43m,\u001b[49m\n\u001b[1;32m      5\u001b[0m \u001b[43m    \u001b[49m\u001b[43mvalidation_data\u001b[49m\u001b[38;5;241;43m=\u001b[39;49m\u001b[43mds_validate\u001b[49m\u001b[43m,\u001b[49m\n\u001b[1;32m      6\u001b[0m \u001b[43m)\u001b[49m))\n",
      "File \u001b[0;32m~/Desktop/AAI/AI /lib/python3.9/site-packages/keras/utils/traceback_utils.py:67\u001b[0m, in \u001b[0;36mfilter_traceback.<locals>.error_handler\u001b[0;34m(*args, **kwargs)\u001b[0m\n\u001b[1;32m     65\u001b[0m \u001b[38;5;28;01mexcept\u001b[39;00m \u001b[38;5;167;01mException\u001b[39;00m \u001b[38;5;28;01mas\u001b[39;00m e:  \u001b[38;5;66;03m# pylint: disable=broad-except\u001b[39;00m\n\u001b[1;32m     66\u001b[0m   filtered_tb \u001b[38;5;241m=\u001b[39m _process_traceback_frames(e\u001b[38;5;241m.\u001b[39m__traceback__)\n\u001b[0;32m---> 67\u001b[0m   \u001b[38;5;28;01mraise\u001b[39;00m e\u001b[38;5;241m.\u001b[39mwith_traceback(filtered_tb) \u001b[38;5;28;01mfrom\u001b[39;00m \u001b[38;5;28mNone\u001b[39m\n\u001b[1;32m     68\u001b[0m \u001b[38;5;28;01mfinally\u001b[39;00m:\n\u001b[1;32m     69\u001b[0m   \u001b[38;5;28;01mdel\u001b[39;00m filtered_tb\n",
      "File \u001b[0;32m~/Desktop/AAI/AI /lib/python3.9/site-packages/pandas/core/generic.py:1526\u001b[0m, in \u001b[0;36mNDFrame.__nonzero__\u001b[0;34m(self)\u001b[0m\n\u001b[1;32m   1524\u001b[0m \u001b[38;5;129m@final\u001b[39m\n\u001b[1;32m   1525\u001b[0m \u001b[38;5;28;01mdef\u001b[39;00m \u001b[38;5;21m__nonzero__\u001b[39m(\u001b[38;5;28mself\u001b[39m) \u001b[38;5;241m-\u001b[39m\u001b[38;5;241m>\u001b[39m NoReturn:\n\u001b[0;32m-> 1526\u001b[0m     \u001b[38;5;28;01mraise\u001b[39;00m \u001b[38;5;167;01mValueError\u001b[39;00m(\n\u001b[1;32m   1527\u001b[0m         \u001b[38;5;124mf\u001b[39m\u001b[38;5;124m\"\u001b[39m\u001b[38;5;124mThe truth value of a \u001b[39m\u001b[38;5;132;01m{\u001b[39;00m\u001b[38;5;28mtype\u001b[39m(\u001b[38;5;28mself\u001b[39m)\u001b[38;5;241m.\u001b[39m\u001b[38;5;18m__name__\u001b[39m\u001b[38;5;132;01m}\u001b[39;00m\u001b[38;5;124m is ambiguous. \u001b[39m\u001b[38;5;124m\"\u001b[39m\n\u001b[1;32m   1528\u001b[0m         \u001b[38;5;124m\"\u001b[39m\u001b[38;5;124mUse a.empty, a.bool(), a.item(), a.any() or a.all().\u001b[39m\u001b[38;5;124m\"\u001b[39m\n\u001b[1;32m   1529\u001b[0m     )\n",
      "\u001b[0;31mValueError\u001b[0m: The truth value of a DataFrame is ambiguous. Use a.empty, a.bool(), a.item(), a.any() or a.all()."
     ]
    }
   ],
   "source": [
    "history = []\n",
    "history.append(('Basic DNN', model.fit(\n",
    "    ds_train,\n",
    "    epochs=10,\n",
    "    validation_data=ds_validate,\n",
    ")))"
   ]
  },
  {
   "cell_type": "code",
   "execution_count": null,
   "id": "afef2438",
   "metadata": {},
   "outputs": [],
   "source": []
  }
 ],
 "metadata": {
  "kernelspec": {
   "display_name": "Python 3 (ipykernel)",
   "language": "python",
   "name": "python3"
  },
  "language_info": {
   "codemirror_mode": {
    "name": "ipython",
    "version": 3
   },
   "file_extension": ".py",
   "mimetype": "text/x-python",
   "name": "python",
   "nbconvert_exporter": "python",
   "pygments_lexer": "ipython3",
   "version": "3.9.9"
  }
 },
 "nbformat": 4,
 "nbformat_minor": 5
}
